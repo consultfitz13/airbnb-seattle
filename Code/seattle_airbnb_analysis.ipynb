{
 "cells": [
  {
   "cell_type": "markdown",
   "id": "2112afc8-f666-415a-a6cc-a39c4a8235e4",
   "metadata": {},
   "source": [
    "# Analysis of Airbnb Data for Seattle from 2017 \n",
    "##The Analysis attempts to answer 3 basic questions\n",
    "1. What’s the best time of year to go in terms of rental availability?\n",
    "2. How much can I expect to pay for a rental?\n",
    "3. What factors contribute most significantly to the rating for a rental?"
   ]
  },
  {
   "cell_type": "markdown",
   "id": "6515fb3f-4588-4afa-94a1-f7b2714a8c95",
   "metadata": {},
   "source": [
    "### Import packages and load the 3 datasets\n",
    "### Datasets downloaded from https://www.kaggle.com/datasets/airbnb/seattle"
   ]
  },
  {
   "cell_type": "code",
   "execution_count": 1,
   "id": "e35a0e48-c792-4652-a592-1c6c353a566a",
   "metadata": {
    "tags": []
   },
   "outputs": [],
   "source": [
    "import numpy as np\n",
    "import pandas as pd\n",
    "from pandasql import sqldf\n",
    "import matplotlib as mplib\n",
    "import matplotlib.pyplot as plt\n",
    "from sklearn.preprocessing import StandardScaler\n",
    "from sklearn.linear_model import LinearRegression\n",
    "from sklearn.model_selection import train_test_split\n",
    "from sklearn.metrics import r2_score, mean_squared_error\n",
    "import seaborn as sns\n",
    "%matplotlib inline\n",
    "\n",
    "listings_df = pd.read_csv('..//Data/listings.csv')\n",
    "calendar_df = pd.read_csv('..//Data/calendar.csv')\n",
    "reviews_df = pd.read_csv('..//Data/reviews.csv')\n"
   ]
  },
  {
   "cell_type": "code",
   "execution_count": 2,
   "id": "a08b4585-ddb0-4417-99bc-716c0befd250",
   "metadata": {
    "tags": []
   },
   "outputs": [
    {
     "data": {
      "text/html": [
       "<div>\n",
       "<style scoped>\n",
       "    .dataframe tbody tr th:only-of-type {\n",
       "        vertical-align: middle;\n",
       "    }\n",
       "\n",
       "    .dataframe tbody tr th {\n",
       "        vertical-align: top;\n",
       "    }\n",
       "\n",
       "    .dataframe thead th {\n",
       "        text-align: right;\n",
       "    }\n",
       "</style>\n",
       "<table border=\"1\" class=\"dataframe\">\n",
       "  <thead>\n",
       "    <tr style=\"text-align: right;\">\n",
       "      <th></th>\n",
       "      <th>listing_id</th>\n",
       "      <th>date</th>\n",
       "      <th>available</th>\n",
       "      <th>price</th>\n",
       "    </tr>\n",
       "  </thead>\n",
       "  <tbody>\n",
       "    <tr>\n",
       "      <th>0</th>\n",
       "      <td>241032</td>\n",
       "      <td>2016-01-04</td>\n",
       "      <td>t</td>\n",
       "      <td>$85.00</td>\n",
       "    </tr>\n",
       "    <tr>\n",
       "      <th>1</th>\n",
       "      <td>241032</td>\n",
       "      <td>2016-01-05</td>\n",
       "      <td>t</td>\n",
       "      <td>$85.00</td>\n",
       "    </tr>\n",
       "    <tr>\n",
       "      <th>2</th>\n",
       "      <td>241032</td>\n",
       "      <td>2016-01-06</td>\n",
       "      <td>f</td>\n",
       "      <td>NaN</td>\n",
       "    </tr>\n",
       "    <tr>\n",
       "      <th>3</th>\n",
       "      <td>241032</td>\n",
       "      <td>2016-01-07</td>\n",
       "      <td>f</td>\n",
       "      <td>NaN</td>\n",
       "    </tr>\n",
       "    <tr>\n",
       "      <th>4</th>\n",
       "      <td>241032</td>\n",
       "      <td>2016-01-08</td>\n",
       "      <td>f</td>\n",
       "      <td>NaN</td>\n",
       "    </tr>\n",
       "  </tbody>\n",
       "</table>\n",
       "</div>"
      ],
      "text/plain": [
       "   listing_id        date available   price\n",
       "0      241032  2016-01-04         t  $85.00\n",
       "1      241032  2016-01-05         t  $85.00\n",
       "2      241032  2016-01-06         f     NaN\n",
       "3      241032  2016-01-07         f     NaN\n",
       "4      241032  2016-01-08         f     NaN"
      ]
     },
     "execution_count": 2,
     "metadata": {},
     "output_type": "execute_result"
    }
   ],
   "source": [
    "# look at the first 5 records of the calendar dataframe\n",
    "calendar_df.head(5)"
   ]
  },
  {
   "cell_type": "code",
   "execution_count": 3,
   "id": "31a666cf-4fbb-447a-9314-3880e72d8af8",
   "metadata": {},
   "outputs": [],
   "source": [
    "# remove dollar sign and commas so we can work with price as a numeric field \n",
    "calendar_df['price'] = calendar_df['price'].str.replace('$','',regex=False)\n",
    "calendar_df['price'] = calendar_df['price'].str.replace(',','',regex=False)\n",
    "calendar_df['price'] = pd.to_numeric(calendar_df['price'])"
   ]
  },
  {
   "cell_type": "code",
   "execution_count": 4,
   "id": "ac6eb567-df89-4d9c-8360-76bbb37aecb1",
   "metadata": {
    "tags": []
   },
   "outputs": [],
   "source": [
    "# convert the date column to a datetime\n",
    "# extract the month from the date and add as a separate column\n",
    "calendar_df['date'] = pd.to_datetime(calendar_df['date'])\n",
    "calendar_df['month'] = calendar_df['date'].dt.month"
   ]
  },
  {
   "cell_type": "code",
   "execution_count": 5,
   "id": "f014e270-a959-4764-af27-50ef9458d73f",
   "metadata": {
    "tags": []
   },
   "outputs": [],
   "source": [
    "# create a dataframe of days where a list was available\n",
    "available_only_df = calendar_df[calendar_df['available'] == 't']"
   ]
  },
  {
   "cell_type": "code",
   "execution_count": 6,
   "id": "eb67613e-3083-441d-9635-1052025c3bfa",
   "metadata": {
    "tags": []
   },
   "outputs": [
    {
     "data": {
      "text/html": [
       "<div>\n",
       "<style scoped>\n",
       "    .dataframe tbody tr th:only-of-type {\n",
       "        vertical-align: middle;\n",
       "    }\n",
       "\n",
       "    .dataframe tbody tr th {\n",
       "        vertical-align: top;\n",
       "    }\n",
       "\n",
       "    .dataframe thead th {\n",
       "        text-align: right;\n",
       "    }\n",
       "</style>\n",
       "<table border=\"1\" class=\"dataframe\">\n",
       "  <thead>\n",
       "    <tr style=\"text-align: right;\">\n",
       "      <th></th>\n",
       "      <th>month</th>\n",
       "      <th>available_units</th>\n",
       "    </tr>\n",
       "  </thead>\n",
       "  <tbody>\n",
       "    <tr>\n",
       "      <th>0</th>\n",
       "      <td>12</td>\n",
       "      <td>87061</td>\n",
       "    </tr>\n",
       "    <tr>\n",
       "      <th>1</th>\n",
       "      <td>3</td>\n",
       "      <td>83938</td>\n",
       "    </tr>\n",
       "    <tr>\n",
       "      <th>2</th>\n",
       "      <td>10</td>\n",
       "      <td>82438</td>\n",
       "    </tr>\n",
       "    <tr>\n",
       "      <th>3</th>\n",
       "      <td>11</td>\n",
       "      <td>81780</td>\n",
       "    </tr>\n",
       "    <tr>\n",
       "      <th>4</th>\n",
       "      <td>5</td>\n",
       "      <td>79971</td>\n",
       "    </tr>\n",
       "    <tr>\n",
       "      <th>5</th>\n",
       "      <td>9</td>\n",
       "      <td>77246</td>\n",
       "    </tr>\n",
       "    <tr>\n",
       "      <th>6</th>\n",
       "      <td>6</td>\n",
       "      <td>77244</td>\n",
       "    </tr>\n",
       "    <tr>\n",
       "      <th>7</th>\n",
       "      <td>8</td>\n",
       "      <td>76347</td>\n",
       "    </tr>\n",
       "    <tr>\n",
       "      <th>8</th>\n",
       "      <td>4</td>\n",
       "      <td>76037</td>\n",
       "    </tr>\n",
       "    <tr>\n",
       "      <th>9</th>\n",
       "      <td>7</td>\n",
       "      <td>74222</td>\n",
       "    </tr>\n",
       "    <tr>\n",
       "      <th>10</th>\n",
       "      <td>2</td>\n",
       "      <td>73321</td>\n",
       "    </tr>\n",
       "    <tr>\n",
       "      <th>11</th>\n",
       "      <td>1</td>\n",
       "      <td>64937</td>\n",
       "    </tr>\n",
       "  </tbody>\n",
       "</table>\n",
       "</div>"
      ],
      "text/plain": [
       "    month  available_units\n",
       "0      12            87061\n",
       "1       3            83938\n",
       "2      10            82438\n",
       "3      11            81780\n",
       "4       5            79971\n",
       "5       9            77246\n",
       "6       6            77244\n",
       "7       8            76347\n",
       "8       4            76037\n",
       "9       7            74222\n",
       "10      2            73321\n",
       "11      1            64937"
      ]
     },
     "execution_count": 6,
     "metadata": {},
     "output_type": "execute_result"
    }
   ],
   "source": [
    "# use pandasql to group the count of available units by month and display results\n",
    "# ordered by the largest counts first\n",
    "query = '''\n",
    "    select distinct\n",
    "        month,\n",
    "        count(*) available_units\n",
    "    from\n",
    "        available_only_df\n",
    "    group by\n",
    "        month\n",
    "    order by\n",
    "        count(*) desc\n",
    "    '''\n",
    "available_per_month_df = sqldf(query)\n",
    "available_per_month_df"
   ]
  },
  {
   "cell_type": "code",
   "execution_count": 7,
   "id": "29ac44b3-617f-4dcf-bfd8-0524cc19cddc",
   "metadata": {
    "tags": []
   },
   "outputs": [
    {
     "data": {
      "image/png": "[encoded data removed]",
      "text/plain": [
       "<Figure size 640x480 with 1 Axes>"
      ]
     },
     "metadata": {},
     "output_type": "display_data"
    }
   ],
   "source": [
    "# plot the available units by month to visually represent the information above\n",
    "fig, ax = plt.subplots()\n",
    "sns.histplot(data=available_only_df,x='month')\n",
    "ax.set_xticks(range(1,13,1)) # <--- set the ticks first\n",
    "ax.set_xticklabels(['Jan','Feb','Mar','Apr','May','Jun','Jul','Aug','Sep','Oct','Nov','Dec'])\n",
    "ax.get_yaxis().set_major_formatter(mplib.ticker.FuncFormatter(lambda x, p: '{:,}'.format(x)))\n",
    "dummy = ax.set(xlabel='Month',\n",
    "       ylabel='Available Housing Units',\n",
    "       title='AirBnb available units per month for 2017')\n",
    "\n",
    "plt.savefig('AirBnb available units per month for 2017.png')"
   ]
  },
  {
   "cell_type": "code",
   "execution_count": null,
   "id": "695a39f6-305e-4500-9f3e-104853d38631",
   "metadata": {},
   "outputs": [],
   "source": [
    "# The plot shows that December, March, and October are the 3 months with the most\n",
    "# available units"
   ]
  },
  {
   "cell_type": "code",
   "execution_count": 8,
   "id": "8ea1d4b8-5894-47fa-b974-e9b1922fc0f9",
   "metadata": {},
   "outputs": [],
   "source": [
    "# create a dataframe from the calendar dataframe dropping any rows where \n",
    "# the price is null\n",
    "all_prices_df = calendar_df.dropna(subset=['price'])"
   ]
  },
  {
   "cell_type": "code",
   "execution_count": 9,
   "id": "f9d7185a-4782-4bfa-b485-19f0582d34b0",
   "metadata": {
    "tags": []
   },
   "outputs": [
    {
     "data": {
      "text/html": [
       "<div>\n",
       "<style scoped>\n",
       "    .dataframe tbody tr th:only-of-type {\n",
       "        vertical-align: middle;\n",
       "    }\n",
       "\n",
       "    .dataframe tbody tr th {\n",
       "        vertical-align: top;\n",
       "    }\n",
       "\n",
       "    .dataframe thead th {\n",
       "        text-align: right;\n",
       "    }\n",
       "</style>\n",
       "<table border=\"1\" class=\"dataframe\">\n",
       "  <thead>\n",
       "    <tr style=\"text-align: right;\">\n",
       "      <th></th>\n",
       "      <th>max(price)</th>\n",
       "      <th>min(price)</th>\n",
       "    </tr>\n",
       "  </thead>\n",
       "  <tbody>\n",
       "    <tr>\n",
       "      <th>0</th>\n",
       "      <td>1650.0</td>\n",
       "      <td>10.0</td>\n",
       "    </tr>\n",
       "  </tbody>\n",
       "</table>\n",
       "</div>"
      ],
      "text/plain": [
       "   max(price)  min(price)\n",
       "0      1650.0        10.0"
      ]
     },
     "execution_count": 9,
     "metadata": {},
     "output_type": "execute_result"
    }
   ],
   "source": [
    "# list the min and max prices from the prices dataframe\n",
    "query = '''\n",
    "    select \n",
    "        max(price),\n",
    "        min(price)\n",
    "    from\n",
    "        all_prices_df\n",
    "    '''\n",
    "min_max_price_df = sqldf(query)\n",
    "min_max_price_df"
   ]
  },
  {
   "cell_type": "code",
   "execution_count": 10,
   "id": "2f1f0cf8-f8f3-4e5f-a543-a3937415dd50",
   "metadata": {
    "tags": []
   },
   "outputs": [
    {
     "data": {
      "image/png": "[encoded data removed]",
      "text/plain": [
       "<Figure size 640x480 with 1 Axes>"
      ]
     },
     "metadata": {},
     "output_type": "display_data"
    }
   ],
   "source": [
    "fig, ax = plt.subplots()\n",
    "sns.histplot(data=all_prices_df,x='price')\n",
    "ax.set_xlim(10,800)\n",
    "ax.get_yaxis().set_major_formatter(mplib.ticker.FuncFormatter(lambda x, p: '{:,}'.format(x)))\n",
    "dummy = ax.set(xlabel='Price Paid',\n",
    "       ylabel='Housing Units',\n",
    "       title='AirBnb housing units by price for 2017')\n",
    "plt.savefig('AirBnb housing units by price for 2017.png')"
   ]
  },
  {
   "cell_type": "code",
   "execution_count": null,
   "id": "8eedaff9-dc2d-4826-ba75-f489aaa70f77",
   "metadata": {},
   "outputs": [],
   "source": [
    "# The plot shows the majority of rental units cost between 50 and 200 dollars with\n",
    "# 100 dollars being the most frequent price"
   ]
  },
  {
   "cell_type": "code",
   "execution_count": 11,
   "id": "c72eb71c-e61c-4045-bdc7-cc5d4378b5c4",
   "metadata": {
    "tags": []
   },
   "outputs": [
    {
     "data": {
      "text/html": [
       "<div>\n",
       "<style scoped>\n",
       "    .dataframe tbody tr th:only-of-type {\n",
       "        vertical-align: middle;\n",
       "    }\n",
       "\n",
       "    .dataframe tbody tr th {\n",
       "        vertical-align: top;\n",
       "    }\n",
       "\n",
       "    .dataframe thead th {\n",
       "        text-align: right;\n",
       "    }\n",
       "</style>\n",
       "<table border=\"1\" class=\"dataframe\">\n",
       "  <thead>\n",
       "    <tr style=\"text-align: right;\">\n",
       "      <th></th>\n",
       "      <th>listing_id</th>\n",
       "      <th>id</th>\n",
       "      <th>date</th>\n",
       "      <th>reviewer_id</th>\n",
       "      <th>reviewer_name</th>\n",
       "      <th>comments</th>\n",
       "    </tr>\n",
       "  </thead>\n",
       "  <tbody>\n",
       "    <tr>\n",
       "      <th>0</th>\n",
       "      <td>7202016</td>\n",
       "      <td>38917982</td>\n",
       "      <td>2015-07-19</td>\n",
       "      <td>28943674</td>\n",
       "      <td>Bianca</td>\n",
       "      <td>Cute and cozy place. Perfect location to every...</td>\n",
       "    </tr>\n",
       "    <tr>\n",
       "      <th>1</th>\n",
       "      <td>7202016</td>\n",
       "      <td>39087409</td>\n",
       "      <td>2015-07-20</td>\n",
       "      <td>32440555</td>\n",
       "      <td>Frank</td>\n",
       "      <td>Kelly has a great room in a very central locat...</td>\n",
       "    </tr>\n",
       "    <tr>\n",
       "      <th>2</th>\n",
       "      <td>7202016</td>\n",
       "      <td>39820030</td>\n",
       "      <td>2015-07-26</td>\n",
       "      <td>37722850</td>\n",
       "      <td>Ian</td>\n",
       "      <td>Very spacious apartment, and in a great neighb...</td>\n",
       "    </tr>\n",
       "    <tr>\n",
       "      <th>3</th>\n",
       "      <td>7202016</td>\n",
       "      <td>40813543</td>\n",
       "      <td>2015-08-02</td>\n",
       "      <td>33671805</td>\n",
       "      <td>George</td>\n",
       "      <td>Close to Seattle Center and all it has to offe...</td>\n",
       "    </tr>\n",
       "    <tr>\n",
       "      <th>4</th>\n",
       "      <td>7202016</td>\n",
       "      <td>41986501</td>\n",
       "      <td>2015-08-10</td>\n",
       "      <td>34959538</td>\n",
       "      <td>Ming</td>\n",
       "      <td>Kelly was a great host and very accommodating ...</td>\n",
       "    </tr>\n",
       "  </tbody>\n",
       "</table>\n",
       "</div>"
      ],
      "text/plain": [
       "   listing_id        id        date  reviewer_id reviewer_name  \\\n",
       "0     7202016  38917982  2015-07-19     28943674        Bianca   \n",
       "1     7202016  39087409  2015-07-20     32440555         Frank   \n",
       "2     7202016  39820030  2015-07-26     37722850           Ian   \n",
       "3     7202016  40813543  2015-08-02     33671805        George   \n",
       "4     7202016  41986501  2015-08-10     34959538          Ming   \n",
       "\n",
       "                                            comments  \n",
       "0  Cute and cozy place. Perfect location to every...  \n",
       "1  Kelly has a great room in a very central locat...  \n",
       "2  Very spacious apartment, and in a great neighb...  \n",
       "3  Close to Seattle Center and all it has to offe...  \n",
       "4  Kelly was a great host and very accommodating ...  "
      ]
     },
     "execution_count": 11,
     "metadata": {},
     "output_type": "execute_result"
    }
   ],
   "source": [
    "# display the first few rows of the reviews dataframe\n",
    "reviews_df.head()"
   ]
  },
  {
   "cell_type": "code",
   "execution_count": 13,
   "id": "faa6cdd0-2078-44b9-831f-e6624b3cbb1c",
   "metadata": {
    "tags": []
   },
   "outputs": [],
   "source": [
    "# the goal is to determine which components are most predictive of the overall\n",
    "# rating given to a listing\n",
    "\n",
    "# create a new with only the specific components that people can rate the listing on plus the overall rating\n",
    "# drop any rows where all the values are null\n",
    "# drop any rows where the overall rating is null\n",
    "# fill any missing values with the mean of the value for that column\n",
    "review_scores_df = listings_df[['review_scores_rating','review_scores_accuracy', 'review_scores_cleanliness', 'review_scores_checkin','review_scores_communication', 'review_scores_location', 'review_scores_value']]\n",
    "review_scores_df = review_scores_df.dropna(how='all')\n",
    "review_scores_df = review_scores_df.dropna(subset=['review_scores_rating'])\n",
    "review_scores_df = review_scores_df.fillna(review_scores_df.mean())"
   ]
  },
  {
   "cell_type": "code",
   "execution_count": 14,
   "id": "612cbc33-b75c-46b3-b41a-f371b87f8ceb",
   "metadata": {
    "tags": []
   },
   "outputs": [],
   "source": [
    "# normalize the data in the dataframe\n",
    "scaler = StandardScaler()\n",
    "review_scores_df_std = scaler.fit_transform(review_scores_df)\n",
    "review_scores_df = pd.DataFrame(review_scores_df_std, columns=review_scores_df.columns)"
   ]
  },
  {
   "cell_type": "code",
   "execution_count": 15,
   "id": "19c03519-13e2-4176-bacd-03051de2cd95",
   "metadata": {},
   "outputs": [
    {
     "data": {
      "text/plain": [
       "'The r-squared score for the model using only quantitative variables was 0.6485531047095806 on 952 values.'"
      ]
     },
     "execution_count": 15,
     "metadata": {},
     "output_type": "execute_result"
    }
   ],
   "source": [
    "# run a linear regression on the dataframe to assign weights to the score components\n",
    "X = review_scores_df[review_scores_df.columns.difference([\"review_scores_rating\"])]\n",
    "y = review_scores_df[\"review_scores_rating\"]\n",
    "\n",
    "X_train, X_test, y_train, y_test = train_test_split(X, y, test_size = .30, random_state=42) \n",
    "\n",
    "lm_model = LinearRegression() # Instantiate\n",
    "lm_model.fit(X_train, y_train) #Fit\n",
    "\n",
    "y_test_preds = lm_model.predict(X_test) \n",
    "\"The r-squared score for the model using only quantitative variables was {} on {} values.\".format(r2_score(y_test, y_test_preds), len(y_test))"
   ]
  },
  {
   "cell_type": "code",
   "execution_count": 16,
   "id": "17e47790-c4ad-4fda-bad9-523ea1e546d9",
   "metadata": {
    "tags": []
   },
   "outputs": [
    {
     "data": {
      "text/html": [
       "<div>\n",
       "<style scoped>\n",
       "    .dataframe tbody tr th:only-of-type {\n",
       "        vertical-align: middle;\n",
       "    }\n",
       "\n",
       "    .dataframe tbody tr th {\n",
       "        vertical-align: top;\n",
       "    }\n",
       "\n",
       "    .dataframe thead th {\n",
       "        text-align: right;\n",
       "    }\n",
       "</style>\n",
       "<table border=\"1\" class=\"dataframe\">\n",
       "  <thead>\n",
       "    <tr style=\"text-align: right;\">\n",
       "      <th></th>\n",
       "      <th>est_int</th>\n",
       "      <th>coefs</th>\n",
       "      <th>abs_coefs</th>\n",
       "    </tr>\n",
       "  </thead>\n",
       "  <tbody>\n",
       "    <tr>\n",
       "      <th>5</th>\n",
       "      <td>review_scores_value</td>\n",
       "      <td>0.346846</td>\n",
       "      <td>0.346846</td>\n",
       "    </tr>\n",
       "    <tr>\n",
       "      <th>2</th>\n",
       "      <td>review_scores_cleanliness</td>\n",
       "      <td>0.283659</td>\n",
       "      <td>0.283659</td>\n",
       "    </tr>\n",
       "    <tr>\n",
       "      <th>0</th>\n",
       "      <td>review_scores_accuracy</td>\n",
       "      <td>0.161070</td>\n",
       "      <td>0.161070</td>\n",
       "    </tr>\n",
       "    <tr>\n",
       "      <th>1</th>\n",
       "      <td>review_scores_checkin</td>\n",
       "      <td>0.116514</td>\n",
       "      <td>0.116514</td>\n",
       "    </tr>\n",
       "    <tr>\n",
       "      <th>3</th>\n",
       "      <td>review_scores_communication</td>\n",
       "      <td>0.108917</td>\n",
       "      <td>0.108917</td>\n",
       "    </tr>\n",
       "    <tr>\n",
       "      <th>4</th>\n",
       "      <td>review_scores_location</td>\n",
       "      <td>0.050779</td>\n",
       "      <td>0.050779</td>\n",
       "    </tr>\n",
       "  </tbody>\n",
       "</table>\n",
       "</div>"
      ],
      "text/plain": [
       "                       est_int     coefs  abs_coefs\n",
       "5          review_scores_value  0.346846   0.346846\n",
       "2    review_scores_cleanliness  0.283659   0.283659\n",
       "0       review_scores_accuracy  0.161070   0.161070\n",
       "1        review_scores_checkin  0.116514   0.116514\n",
       "3  review_scores_communication  0.108917   0.108917\n",
       "4       review_scores_location  0.050779   0.050779"
      ]
     },
     "execution_count": 16,
     "metadata": {},
     "output_type": "execute_result"
    }
   ],
   "source": [
    "# define a function to extract the coefficients from the regression model \n",
    "# and order them highest to lowest\n",
    "def coef_weights(coefficients, X_train):\n",
    "    '''\n",
    "    INPUT:\n",
    "    coefficients - the coefficients of the linear model \n",
    "    X_train - the training data, so the column names can be used\n",
    "    OUTPUT:\n",
    "    coefs_df - a dataframe holding the coefficient, estimate, and abs(estimate)\n",
    "    \n",
    "    Provides a dataframe that can be used to understand the most influential coefficients\n",
    "    in a linear model by providing the coefficient estimates along with the name of the \n",
    "    variable attached to the coefficient.\n",
    "    '''\n",
    "    coefs_df = pd.DataFrame()\n",
    "    coefs_df['est_int'] = X_train.columns\n",
    "    coefs_df['coefs'] = lm_model.coef_\n",
    "    coefs_df['abs_coefs'] = np.abs(lm_model.coef_)\n",
    "    coefs_df = coefs_df.sort_values('abs_coefs', ascending=False)\n",
    "    return coefs_df\n",
    "\n",
    "#Use the function\n",
    "coef_df = coef_weights(lm_model.coef_, X_train)\n",
    "\n",
    "#A quick look at the top results\n",
    "coef_df.head(20)"
   ]
  },
  {
   "cell_type": "code",
   "execution_count": null,
   "id": "486702b5-b5fa-46f4-a541-7cecaae9a913",
   "metadata": {},
   "outputs": [],
   "source": [
    "# The output indicates that value is the most important quality contributing \n",
    "# to the overall score given to a listing followed by cleanliness"
   ]
  }
 ],
 "metadata": {
  "kernelspec": {
   "display_name": "Python 3 (ipykernel)",
   "language": "python",
   "name": "python3"
  },
  "language_info": {
   "codemirror_mode": {
    "name": "ipython",
    "version": 3
   },
   "file_extension": ".py",
   "mimetype": "text/x-python",
   "name": "python",
   "nbconvert_exporter": "python",
   "pygments_lexer": "ipython3",
   "version": "3.11.4"
  }
 },
 "nbformat": 4,
 "nbformat_minor": 5
}
