{
 "cells": [
  {
   "cell_type": "markdown",
   "id": "609b78d2-5780-41fa-bcde-07aad2ca6c4a",
   "metadata": {},
   "source": [
    "# Project: Seattle Trip Planning using Airbnb"
   ]
  },
  {
   "cell_type": "markdown",
   "id": "31bcf806-bc2f-40d9-9e3d-ca44389be44f",
   "metadata": {
    "tags": []
   },
   "source": [
    "## Section 1: Business Understanding\n",
    "\n",
    "The goal of this analysis is to help determine the optimum conditions for taking a trip to Seattle, WA.\n",
    "\n",
    "Specifically it attempts to answer the following 3 questions\n",
    "\n",
    "1. What’s the best time of year to go in terms of rental availability?\n",
    "2. How much can I expect to pay for a rental?\n",
    "3. What factors contribute most significantly to the overall rating for a rental?"
   ]
  },
  {
   "cell_type": "markdown",
   "id": "0d67ea0b-5ae2-49cd-84bb-b378567d2d40",
   "metadata": {
    "tags": []
   },
   "source": [
    "## Section 2: Data Understanding\n",
    "The data consists of 3 datasets downloaded from https://www.kaggle.com/datasets/airbnb/seattle\n",
    "\n",
    "Import packages and load the 3 datasets"
   ]
  },
  {
   "cell_type": "code",
   "execution_count": 1,
   "id": "da18fa75-58d3-4365-9ff2-515e19c6de76",
   "metadata": {
    "tags": []
   },
   "outputs": [],
   "source": [
    "import numpy as np\n",
    "import pandas as pd\n",
    "from pandasql import sqldf\n",
    "import matplotlib as mplib\n",
    "import matplotlib.pyplot as plt\n",
    "from sklearn.linear_model import LinearRegression\n",
    "from sklearn.model_selection import train_test_split\n",
    "from sklearn.metrics import r2_score, mean_squared_error\n",
    "import seaborn as sns\n",
    "%matplotlib inline\n",
    "\n",
    "listings_df = pd.read_csv('..//Data/listings.csv')\n",
    "calendar_df = pd.read_csv('..//Data/calendar.csv')\n",
    "reviews_df = pd.read_csv('..//Data/reviews.csv')"
   ]
  },
  {
   "cell_type": "markdown",
   "id": "1c9287a8-f94b-49c0-b0b9-c6f98db4ac16",
   "metadata": {},
   "source": [
    "#### Lets look at some of the data in the calendar dataset first"
   ]
  },
  {
   "cell_type": "code",
   "execution_count": 2,
   "id": "3cfada31-3826-46a8-af7c-171e7e56e008",
   "metadata": {
    "tags": []
   },
   "outputs": [
    {
     "data": {
      "text/plain": [
       "(1393570, 4)"
      ]
     },
     "execution_count": 2,
     "metadata": {},
     "output_type": "execute_result"
    }
   ],
   "source": [
    "calendar_df.shape"
   ]
  },
  {
   "cell_type": "code",
   "execution_count": 3,
   "id": "bc26b4d1-9933-4eca-87ad-ee721e44762b",
   "metadata": {
    "tags": []
   },
   "outputs": [
    {
     "data": {
      "text/html": [
       "<div>\n",
       "<style scoped>\n",
       "    .dataframe tbody tr th:only-of-type {\n",
       "        vertical-align: middle;\n",
       "    }\n",
       "\n",
       "    .dataframe tbody tr th {\n",
       "        vertical-align: top;\n",
       "    }\n",
       "\n",
       "    .dataframe thead th {\n",
       "        text-align: right;\n",
       "    }\n",
       "</style>\n",
       "<table border=\"1\" class=\"dataframe\">\n",
       "  <thead>\n",
       "    <tr style=\"text-align: right;\">\n",
       "      <th></th>\n",
       "      <th>listing_id</th>\n",
       "      <th>date</th>\n",
       "      <th>available</th>\n",
       "      <th>price</th>\n",
       "    </tr>\n",
       "  </thead>\n",
       "  <tbody>\n",
       "    <tr>\n",
       "      <th>0</th>\n",
       "      <td>241032</td>\n",
       "      <td>2016-01-04</td>\n",
       "      <td>t</td>\n",
       "      <td>$85.00</td>\n",
       "    </tr>\n",
       "    <tr>\n",
       "      <th>1</th>\n",
       "      <td>241032</td>\n",
       "      <td>2016-01-05</td>\n",
       "      <td>t</td>\n",
       "      <td>$85.00</td>\n",
       "    </tr>\n",
       "    <tr>\n",
       "      <th>2</th>\n",
       "      <td>241032</td>\n",
       "      <td>2016-01-06</td>\n",
       "      <td>f</td>\n",
       "      <td>NaN</td>\n",
       "    </tr>\n",
       "    <tr>\n",
       "      <th>3</th>\n",
       "      <td>241032</td>\n",
       "      <td>2016-01-07</td>\n",
       "      <td>f</td>\n",
       "      <td>NaN</td>\n",
       "    </tr>\n",
       "    <tr>\n",
       "      <th>4</th>\n",
       "      <td>241032</td>\n",
       "      <td>2016-01-08</td>\n",
       "      <td>f</td>\n",
       "      <td>NaN</td>\n",
       "    </tr>\n",
       "  </tbody>\n",
       "</table>\n",
       "</div>"
      ],
      "text/plain": [
       "   listing_id        date available   price\n",
       "0      241032  2016-01-04         t  $85.00\n",
       "1      241032  2016-01-05         t  $85.00\n",
       "2      241032  2016-01-06         f     NaN\n",
       "3      241032  2016-01-07         f     NaN\n",
       "4      241032  2016-01-08         f     NaN"
      ]
     },
     "execution_count": 3,
     "metadata": {},
     "output_type": "execute_result"
    }
   ],
   "source": [
    "calendar_df.head(5)"
   ]
  },
  {
   "cell_type": "markdown",
   "id": "9c8b83c5-1de2-4830-b62c-63769150107a",
   "metadata": {},
   "source": [
    "The calendar dataset has 1,393,570 rows and 4 columns. It can help us answer 2 of our questions about availability and price\n",
    "\n",
    "+ The listing_id column is a unique identifier for the listing. \n",
    "+ The date column contains the date\n",
    "+ The available column indicates whether the listing was available (\"t\") or not (\"f\") on that date\n",
    "+ The price column indicates the price for the listing on that date"
   ]
  },
  {
   "cell_type": "markdown",
   "id": "53cbbb40-0542-4e78-852f-5e108a545e60",
   "metadata": {},
   "source": [
    "#### Next, lets look at the listings dataset"
   ]
  },
  {
   "cell_type": "code",
   "execution_count": 4,
   "id": "2f49ea31-22a3-4c8f-83dd-7018a6c9ddef",
   "metadata": {
    "tags": []
   },
   "outputs": [
    {
     "data": {
      "text/plain": [
       "(3818, 92)"
      ]
     },
     "execution_count": 4,
     "metadata": {},
     "output_type": "execute_result"
    }
   ],
   "source": [
    "listings_df.shape"
   ]
  },
  {
   "cell_type": "code",
   "execution_count": 5,
   "id": "819aaeb2-14e6-4752-ba7e-c4b2cc4162c0",
   "metadata": {
    "tags": []
   },
   "outputs": [
    {
     "data": {
      "text/html": [
       "<div>\n",
       "<style scoped>\n",
       "    .dataframe tbody tr th:only-of-type {\n",
       "        vertical-align: middle;\n",
       "    }\n",
       "\n",
       "    .dataframe tbody tr th {\n",
       "        vertical-align: top;\n",
       "    }\n",
       "\n",
       "    .dataframe thead th {\n",
       "        text-align: right;\n",
       "    }\n",
       "</style>\n",
       "<table border=\"1\" class=\"dataframe\">\n",
       "  <thead>\n",
       "    <tr style=\"text-align: right;\">\n",
       "      <th></th>\n",
       "      <th>id</th>\n",
       "      <th>listing_url</th>\n",
       "      <th>scrape_id</th>\n",
       "      <th>last_scraped</th>\n",
       "      <th>name</th>\n",
       "      <th>summary</th>\n",
       "      <th>space</th>\n",
       "      <th>description</th>\n",
       "      <th>experiences_offered</th>\n",
       "      <th>neighborhood_overview</th>\n",
       "      <th>...</th>\n",
       "      <th>review_scores_value</th>\n",
       "      <th>requires_license</th>\n",
       "      <th>license</th>\n",
       "      <th>jurisdiction_names</th>\n",
       "      <th>instant_bookable</th>\n",
       "      <th>cancellation_policy</th>\n",
       "      <th>require_guest_profile_picture</th>\n",
       "      <th>require_guest_phone_verification</th>\n",
       "      <th>calculated_host_listings_count</th>\n",
       "      <th>reviews_per_month</th>\n",
       "    </tr>\n",
       "  </thead>\n",
       "  <tbody>\n",
       "    <tr>\n",
       "      <th>0</th>\n",
       "      <td>241032</td>\n",
       "      <td>https://www.airbnb.com/rooms/241032</td>\n",
       "      <td>20160104002432</td>\n",
       "      <td>2016-01-04</td>\n",
       "      <td>Stylish Queen Anne Apartment</td>\n",
       "      <td>NaN</td>\n",
       "      <td>Make your self at home in this charming one-be...</td>\n",
       "      <td>Make your self at home in this charming one-be...</td>\n",
       "      <td>none</td>\n",
       "      <td>NaN</td>\n",
       "      <td>...</td>\n",
       "      <td>10.0</td>\n",
       "      <td>f</td>\n",
       "      <td>NaN</td>\n",
       "      <td>WASHINGTON</td>\n",
       "      <td>f</td>\n",
       "      <td>moderate</td>\n",
       "      <td>f</td>\n",
       "      <td>f</td>\n",
       "      <td>2</td>\n",
       "      <td>4.07</td>\n",
       "    </tr>\n",
       "    <tr>\n",
       "      <th>1</th>\n",
       "      <td>953595</td>\n",
       "      <td>https://www.airbnb.com/rooms/953595</td>\n",
       "      <td>20160104002432</td>\n",
       "      <td>2016-01-04</td>\n",
       "      <td>Bright &amp; Airy Queen Anne Apartment</td>\n",
       "      <td>Chemically sensitive? We've removed the irrita...</td>\n",
       "      <td>Beautiful, hypoallergenic apartment in an extr...</td>\n",
       "      <td>Chemically sensitive? We've removed the irrita...</td>\n",
       "      <td>none</td>\n",
       "      <td>Queen Anne is a wonderful, truly functional vi...</td>\n",
       "      <td>...</td>\n",
       "      <td>10.0</td>\n",
       "      <td>f</td>\n",
       "      <td>NaN</td>\n",
       "      <td>WASHINGTON</td>\n",
       "      <td>f</td>\n",
       "      <td>strict</td>\n",
       "      <td>t</td>\n",
       "      <td>t</td>\n",
       "      <td>6</td>\n",
       "      <td>1.48</td>\n",
       "    </tr>\n",
       "    <tr>\n",
       "      <th>2</th>\n",
       "      <td>3308979</td>\n",
       "      <td>https://www.airbnb.com/rooms/3308979</td>\n",
       "      <td>20160104002432</td>\n",
       "      <td>2016-01-04</td>\n",
       "      <td>New Modern House-Amazing water view</td>\n",
       "      <td>New modern house built in 2013.  Spectacular s...</td>\n",
       "      <td>Our house is modern, light and fresh with a wa...</td>\n",
       "      <td>New modern house built in 2013.  Spectacular s...</td>\n",
       "      <td>none</td>\n",
       "      <td>Upper Queen Anne is a charming neighborhood fu...</td>\n",
       "      <td>...</td>\n",
       "      <td>10.0</td>\n",
       "      <td>f</td>\n",
       "      <td>NaN</td>\n",
       "      <td>WASHINGTON</td>\n",
       "      <td>f</td>\n",
       "      <td>strict</td>\n",
       "      <td>f</td>\n",
       "      <td>f</td>\n",
       "      <td>2</td>\n",
       "      <td>1.15</td>\n",
       "    </tr>\n",
       "    <tr>\n",
       "      <th>3</th>\n",
       "      <td>7421966</td>\n",
       "      <td>https://www.airbnb.com/rooms/7421966</td>\n",
       "      <td>20160104002432</td>\n",
       "      <td>2016-01-04</td>\n",
       "      <td>Queen Anne Chateau</td>\n",
       "      <td>A charming apartment that sits atop Queen Anne...</td>\n",
       "      <td>NaN</td>\n",
       "      <td>A charming apartment that sits atop Queen Anne...</td>\n",
       "      <td>none</td>\n",
       "      <td>NaN</td>\n",
       "      <td>...</td>\n",
       "      <td>NaN</td>\n",
       "      <td>f</td>\n",
       "      <td>NaN</td>\n",
       "      <td>WASHINGTON</td>\n",
       "      <td>f</td>\n",
       "      <td>flexible</td>\n",
       "      <td>f</td>\n",
       "      <td>f</td>\n",
       "      <td>1</td>\n",
       "      <td>NaN</td>\n",
       "    </tr>\n",
       "    <tr>\n",
       "      <th>4</th>\n",
       "      <td>278830</td>\n",
       "      <td>https://www.airbnb.com/rooms/278830</td>\n",
       "      <td>20160104002432</td>\n",
       "      <td>2016-01-04</td>\n",
       "      <td>Charming craftsman 3 bdm house</td>\n",
       "      <td>Cozy family craftman house in beautiful neighb...</td>\n",
       "      <td>Cozy family craftman house in beautiful neighb...</td>\n",
       "      <td>Cozy family craftman house in beautiful neighb...</td>\n",
       "      <td>none</td>\n",
       "      <td>We are in the beautiful neighborhood of Queen ...</td>\n",
       "      <td>...</td>\n",
       "      <td>9.0</td>\n",
       "      <td>f</td>\n",
       "      <td>NaN</td>\n",
       "      <td>WASHINGTON</td>\n",
       "      <td>f</td>\n",
       "      <td>strict</td>\n",
       "      <td>f</td>\n",
       "      <td>f</td>\n",
       "      <td>1</td>\n",
       "      <td>0.89</td>\n",
       "    </tr>\n",
       "  </tbody>\n",
       "</table>\n",
       "<p>5 rows × 92 columns</p>\n",
       "</div>"
      ],
      "text/plain": [
       "        id                           listing_url       scrape_id last_scraped  \\\n",
       "0   241032   https://www.airbnb.com/rooms/241032  20160104002432   2016-01-04   \n",
       "1   953595   https://www.airbnb.com/rooms/953595  20160104002432   2016-01-04   \n",
       "2  3308979  https://www.airbnb.com/rooms/3308979  20160104002432   2016-01-04   \n",
       "3  7421966  https://www.airbnb.com/rooms/7421966  20160104002432   2016-01-04   \n",
       "4   278830   https://www.airbnb.com/rooms/278830  20160104002432   2016-01-04   \n",
       "\n",
       "                                  name  \\\n",
       "0         Stylish Queen Anne Apartment   \n",
       "1   Bright & Airy Queen Anne Apartment   \n",
       "2  New Modern House-Amazing water view   \n",
       "3                   Queen Anne Chateau   \n",
       "4       Charming craftsman 3 bdm house   \n",
       "\n",
       "                                             summary  \\\n",
       "0                                                NaN   \n",
       "1  Chemically sensitive? We've removed the irrita...   \n",
       "2  New modern house built in 2013.  Spectacular s...   \n",
       "3  A charming apartment that sits atop Queen Anne...   \n",
       "4  Cozy family craftman house in beautiful neighb...   \n",
       "\n",
       "                                               space  \\\n",
       "0  Make your self at home in this charming one-be...   \n",
       "1  Beautiful, hypoallergenic apartment in an extr...   \n",
       "2  Our house is modern, light and fresh with a wa...   \n",
       "3                                                NaN   \n",
       "4  Cozy family craftman house in beautiful neighb...   \n",
       "\n",
       "                                         description experiences_offered  \\\n",
       "0  Make your self at home in this charming one-be...                none   \n",
       "1  Chemically sensitive? We've removed the irrita...                none   \n",
       "2  New modern house built in 2013.  Spectacular s...                none   \n",
       "3  A charming apartment that sits atop Queen Anne...                none   \n",
       "4  Cozy family craftman house in beautiful neighb...                none   \n",
       "\n",
       "                               neighborhood_overview  ... review_scores_value  \\\n",
       "0                                                NaN  ...                10.0   \n",
       "1  Queen Anne is a wonderful, truly functional vi...  ...                10.0   \n",
       "2  Upper Queen Anne is a charming neighborhood fu...  ...                10.0   \n",
       "3                                                NaN  ...                 NaN   \n",
       "4  We are in the beautiful neighborhood of Queen ...  ...                 9.0   \n",
       "\n",
       "  requires_license license jurisdiction_names instant_bookable  \\\n",
       "0                f     NaN         WASHINGTON                f   \n",
       "1                f     NaN         WASHINGTON                f   \n",
       "2                f     NaN         WASHINGTON                f   \n",
       "3                f     NaN         WASHINGTON                f   \n",
       "4                f     NaN         WASHINGTON                f   \n",
       "\n",
       "  cancellation_policy  require_guest_profile_picture  \\\n",
       "0            moderate                              f   \n",
       "1              strict                              t   \n",
       "2              strict                              f   \n",
       "3            flexible                              f   \n",
       "4              strict                              f   \n",
       "\n",
       "  require_guest_phone_verification calculated_host_listings_count  \\\n",
       "0                                f                              2   \n",
       "1                                t                              6   \n",
       "2                                f                              2   \n",
       "3                                f                              1   \n",
       "4                                f                              1   \n",
       "\n",
       "  reviews_per_month  \n",
       "0              4.07  \n",
       "1              1.48  \n",
       "2              1.15  \n",
       "3               NaN  \n",
       "4              0.89  \n",
       "\n",
       "[5 rows x 92 columns]"
      ]
     },
     "execution_count": 5,
     "metadata": {},
     "output_type": "execute_result"
    }
   ],
   "source": [
    "listings_df.head(5)"
   ]
  },
  {
   "cell_type": "markdown",
   "id": "84524d1e-6910-4ed6-a48f-5df1428eb628",
   "metadata": {},
   "source": [
    "The listings dataset has 3818 rows and 92 columns. It consists of an identifier for the listing and numerous \n",
    "other columns that contain text descriptions along with some numeric characteristics associated with the listing. \n",
    "For our analysis we will focus on the \"review_scores\" columns in this dataset to help answer the 3rd question posed above"
   ]
  },
  {
   "cell_type": "markdown",
   "id": "74f9c7cf-341c-4cde-9808-5308f311902c",
   "metadata": {},
   "source": [
    "### Finally lets take a look at the reviews dataset"
   ]
  },
  {
   "cell_type": "code",
   "execution_count": 6,
   "id": "bc12878b-6462-4b6d-99b7-618b80c5a67d",
   "metadata": {
    "tags": []
   },
   "outputs": [
    {
     "data": {
      "text/plain": [
       "(84849, 6)"
      ]
     },
     "execution_count": 6,
     "metadata": {},
     "output_type": "execute_result"
    }
   ],
   "source": [
    "reviews_df.shape"
   ]
  },
  {
   "cell_type": "code",
   "execution_count": 7,
   "id": "78cd2392-d426-47d3-8045-fce199645d3f",
   "metadata": {
    "tags": []
   },
   "outputs": [
    {
     "data": {
      "text/html": [
       "<div>\n",
       "<style scoped>\n",
       "    .dataframe tbody tr th:only-of-type {\n",
       "        vertical-align: middle;\n",
       "    }\n",
       "\n",
       "    .dataframe tbody tr th {\n",
       "        vertical-align: top;\n",
       "    }\n",
       "\n",
       "    .dataframe thead th {\n",
       "        text-align: right;\n",
       "    }\n",
       "</style>\n",
       "<table border=\"1\" class=\"dataframe\">\n",
       "  <thead>\n",
       "    <tr style=\"text-align: right;\">\n",
       "      <th></th>\n",
       "      <th>listing_id</th>\n",
       "      <th>id</th>\n",
       "      <th>date</th>\n",
       "      <th>reviewer_id</th>\n",
       "      <th>reviewer_name</th>\n",
       "      <th>comments</th>\n",
       "    </tr>\n",
       "  </thead>\n",
       "  <tbody>\n",
       "    <tr>\n",
       "      <th>0</th>\n",
       "      <td>7202016</td>\n",
       "      <td>38917982</td>\n",
       "      <td>2015-07-19</td>\n",
       "      <td>28943674</td>\n",
       "      <td>Bianca</td>\n",
       "      <td>Cute and cozy place. Perfect location to every...</td>\n",
       "    </tr>\n",
       "    <tr>\n",
       "      <th>1</th>\n",
       "      <td>7202016</td>\n",
       "      <td>39087409</td>\n",
       "      <td>2015-07-20</td>\n",
       "      <td>32440555</td>\n",
       "      <td>Frank</td>\n",
       "      <td>Kelly has a great room in a very central locat...</td>\n",
       "    </tr>\n",
       "    <tr>\n",
       "      <th>2</th>\n",
       "      <td>7202016</td>\n",
       "      <td>39820030</td>\n",
       "      <td>2015-07-26</td>\n",
       "      <td>37722850</td>\n",
       "      <td>Ian</td>\n",
       "      <td>Very spacious apartment, and in a great neighb...</td>\n",
       "    </tr>\n",
       "    <tr>\n",
       "      <th>3</th>\n",
       "      <td>7202016</td>\n",
       "      <td>40813543</td>\n",
       "      <td>2015-08-02</td>\n",
       "      <td>33671805</td>\n",
       "      <td>George</td>\n",
       "      <td>Close to Seattle Center and all it has to offe...</td>\n",
       "    </tr>\n",
       "    <tr>\n",
       "      <th>4</th>\n",
       "      <td>7202016</td>\n",
       "      <td>41986501</td>\n",
       "      <td>2015-08-10</td>\n",
       "      <td>34959538</td>\n",
       "      <td>Ming</td>\n",
       "      <td>Kelly was a great host and very accommodating ...</td>\n",
       "    </tr>\n",
       "  </tbody>\n",
       "</table>\n",
       "</div>"
      ],
      "text/plain": [
       "   listing_id        id        date  reviewer_id reviewer_name  \\\n",
       "0     7202016  38917982  2015-07-19     28943674        Bianca   \n",
       "1     7202016  39087409  2015-07-20     32440555         Frank   \n",
       "2     7202016  39820030  2015-07-26     37722850           Ian   \n",
       "3     7202016  40813543  2015-08-02     33671805        George   \n",
       "4     7202016  41986501  2015-08-10     34959538          Ming   \n",
       "\n",
       "                                            comments  \n",
       "0  Cute and cozy place. Perfect location to every...  \n",
       "1  Kelly has a great room in a very central locat...  \n",
       "2  Very spacious apartment, and in a great neighb...  \n",
       "3  Close to Seattle Center and all it has to offe...  \n",
       "4  Kelly was a great host and very accommodating ...  "
      ]
     },
     "execution_count": 7,
     "metadata": {},
     "output_type": "execute_result"
    }
   ],
   "source": [
    "reviews_df.head()"
   ]
  },
  {
   "cell_type": "markdown",
   "id": "793543bd-2dd7-4699-b690-ede2cc7116f0",
   "metadata": {},
   "source": [
    "The reviews dataset contains 84,849 rows and 6 columns. It contains a listing_id, a date, a couple of identifiers\n",
    "for the reviewer and the comments that the reviewer left about the listing on that date. We won't be working with\n",
    "this dataset in this analysis but the comments can potentially be used for sentiment analysis in the future."
   ]
  },
  {
   "cell_type": "markdown",
   "id": "7c11c8fd-8582-4644-a717-399a8d342d75",
   "metadata": {},
   "source": [
    "### Section 3: Data Preparation"
   ]
  },
  {
   "cell_type": "markdown",
   "id": "e33a5f19-aac2-467c-bb2d-477484d05aa4",
   "metadata": {},
   "source": [
    "In order to determine what time of year has the most available units, convert the date column in the listings \n",
    "dataset to a date and extract the month from the date and add it as a separate column to the dataset"
   ]
  },
  {
   "cell_type": "code",
   "execution_count": 8,
   "id": "bcf06e23-123b-4b4d-8556-6f4ec2811e16",
   "metadata": {},
   "outputs": [],
   "source": [
    "# convert the date column to a datetime\n",
    "# extract the month from the date and add as a separate column\n",
    "calendar_df['date'] = pd.to_datetime(calendar_df['date'])\n",
    "calendar_df['month'] = calendar_df['date'].dt.month"
   ]
  },
  {
   "cell_type": "markdown",
   "id": "10fa25ec-7c90-4a2b-9a1b-51396f2f392d",
   "metadata": {},
   "source": [
    "In order to determine what prices to expect to pay for a listing we need to clean the \n",
    "price column in the listings dataset. The prices contain dollar signs and commas and we\n",
    "need to convert them to pure numeric fields for further analysis"
   ]
  },
  {
   "cell_type": "code",
   "execution_count": 9,
   "id": "4c7289bc-54a5-4ec4-b0cd-95bf8588a8d8",
   "metadata": {},
   "outputs": [],
   "source": [
    "# remove dollar sign and commas so we can work with price as a numeric field \n",
    "calendar_df['price'] = calendar_df['price'].str.replace('$','',regex=False)\n",
    "calendar_df['price'] = calendar_df['price'].str.replace(',','',regex=False)\n",
    "calendar_df['price'] = pd.to_numeric(calendar_df['price'])"
   ]
  },
  {
   "cell_type": "markdown",
   "id": "bb4a5d39-d4c5-4df9-a50a-24825a37fe50",
   "metadata": {},
   "source": [
    "For our price analysis create a separate dataset that contains only those rows where the price is available"
   ]
  },
  {
   "cell_type": "code",
   "execution_count": 10,
   "id": "09ecbef9-0e98-4d64-af52-09569f1f4d45",
   "metadata": {
    "tags": []
   },
   "outputs": [],
   "source": [
    "# create a dataframe from the calendar dataframe dropping any rows where \n",
    "# the price is null\n",
    "all_prices_df = calendar_df.dropna(subset=['price'])"
   ]
  },
  {
   "cell_type": "markdown",
   "id": "886c72e0-a04e-49d3-ad79-72eda396a389",
   "metadata": {
    "tags": []
   },
   "source": [
    "In order to determine which specific revier scores are most indicative of the overall score\n",
    "given by a reviewer, a linear regression model will be fitted. The following steps will be taken\n",
    "to clean the data in the reviews dataset in preparation for running the model\n",
    "\n",
    "+ create a new dataframe with only the overall rating and component rating columns\n",
    "+ drop any rows where all the values are null\n",
    "+ drop any rows where the overall rating is null because that's the column we're trying to predict\n",
    "+ fill any missing values with the mean of the value for that column"
   ]
  },
  {
   "cell_type": "code",
   "execution_count": 11,
   "id": "6ea14234-473d-4d0d-b224-24392da83b27",
   "metadata": {
    "tags": []
   },
   "outputs": [],
   "source": [
    "# prep review columns for linear regression model\n",
    "review_scores_df = listings_df[['review_scores_rating','review_scores_accuracy', 'review_scores_cleanliness', 'review_scores_checkin','review_scores_communication', 'review_scores_location', 'review_scores_value']]\n",
    "review_scores_df = review_scores_df.dropna(how='all')\n",
    "review_scores_df = review_scores_df.dropna(subset=['review_scores_rating'])\n",
    "review_scores_df = review_scores_df.fillna(review_scores_df.mean())"
   ]
  },
  {
   "cell_type": "markdown",
   "id": "20bcaf92-e973-4016-abfa-ee025334d7ca",
   "metadata": {},
   "source": [
    "## Section 4: Modeling\n",
    "To determine which scores are most indicative of the overall rating run a linear regression\n",
    "model. The dataset will be split into test and training datasets. The model will be fit\n",
    "with the training dataset and then the predictive ability of the model will be evaluated \n",
    "against the unseen data in the test datasets\n"
   ]
  },
  {
   "cell_type": "code",
   "execution_count": 12,
   "id": "c04a7836-8df6-4d1b-8e4f-764c1f1e1046",
   "metadata": {
    "tags": []
   },
   "outputs": [
    {
     "data": {
      "text/plain": [
       "'The r-squared score for the model using only quantitative variables was 0.6485531047095807 on 952 values.'"
      ]
     },
     "execution_count": 12,
     "metadata": {},
     "output_type": "execute_result"
    }
   ],
   "source": [
    "# run a linear regression on the dataframe to assign weights to the score components\n",
    "# run the model with unseen data and see how \n",
    "X = review_scores_df[review_scores_df.columns.difference([\"review_scores_rating\"])]\n",
    "y = review_scores_df[\"review_scores_rating\"]\n",
    "\n",
    "X_train, X_test, y_train, y_test = train_test_split(X, y, test_size = .30, random_state=42) \n",
    "\n",
    "lm_model = LinearRegression() # Instantiate\n",
    "lm_model.fit(X_train, y_train) #Fit\n",
    "\n",
    "y_test_preds = lm_model.predict(X_test) \n",
    "\"The r-squared score for the model using only quantitative variables was {} on {} values.\".format(r2_score(y_test, y_test_preds), len(y_test))"
   ]
  },
  {
   "cell_type": "markdown",
   "id": "e666e5de-95b7-432e-a15e-58c466ff32a5",
   "metadata": {},
   "source": [
    "The r_squared score for the model is 65% which is acceptable for this analysis"
   ]
  },
  {
   "cell_type": "markdown",
   "id": "52d30965-2fd3-4e36-add6-7bb18ec4d606",
   "metadata": {},
   "source": [
    "### Section 5: Evaluation"
   ]
  },
  {
   "cell_type": "markdown",
   "id": "805ca25e-9631-42aa-ba81-f29913eedd8a",
   "metadata": {},
   "source": [
    "### Question 1. What’s the best time of year to go in terms of rental availability?"
   ]
  },
  {
   "cell_type": "code",
   "execution_count": 13,
   "id": "dc57635d-96d7-4626-8166-457442d081f2",
   "metadata": {
    "tags": []
   },
   "outputs": [],
   "source": [
    "# create a dataframe of days where a list was available\n",
    "available_only_df = calendar_df[calendar_df['available'] == 't']"
   ]
  },
  {
   "cell_type": "code",
   "execution_count": 14,
   "id": "bb2944f6-8289-49c4-a264-4e6cab827047",
   "metadata": {
    "tags": []
   },
   "outputs": [
    {
     "data": {
      "text/html": [
       "<div>\n",
       "<style scoped>\n",
       "    .dataframe tbody tr th:only-of-type {\n",
       "        vertical-align: middle;\n",
       "    }\n",
       "\n",
       "    .dataframe tbody tr th {\n",
       "        vertical-align: top;\n",
       "    }\n",
       "\n",
       "    .dataframe thead th {\n",
       "        text-align: right;\n",
       "    }\n",
       "</style>\n",
       "<table border=\"1\" class=\"dataframe\">\n",
       "  <thead>\n",
       "    <tr style=\"text-align: right;\">\n",
       "      <th></th>\n",
       "      <th>month</th>\n",
       "      <th>available_units</th>\n",
       "    </tr>\n",
       "  </thead>\n",
       "  <tbody>\n",
       "    <tr>\n",
       "      <th>0</th>\n",
       "      <td>12</td>\n",
       "      <td>87061</td>\n",
       "    </tr>\n",
       "    <tr>\n",
       "      <th>1</th>\n",
       "      <td>3</td>\n",
       "      <td>83938</td>\n",
       "    </tr>\n",
       "    <tr>\n",
       "      <th>2</th>\n",
       "      <td>10</td>\n",
       "      <td>82438</td>\n",
       "    </tr>\n",
       "    <tr>\n",
       "      <th>3</th>\n",
       "      <td>11</td>\n",
       "      <td>81780</td>\n",
       "    </tr>\n",
       "    <tr>\n",
       "      <th>4</th>\n",
       "      <td>5</td>\n",
       "      <td>79971</td>\n",
       "    </tr>\n",
       "    <tr>\n",
       "      <th>5</th>\n",
       "      <td>9</td>\n",
       "      <td>77246</td>\n",
       "    </tr>\n",
       "    <tr>\n",
       "      <th>6</th>\n",
       "      <td>6</td>\n",
       "      <td>77244</td>\n",
       "    </tr>\n",
       "    <tr>\n",
       "      <th>7</th>\n",
       "      <td>8</td>\n",
       "      <td>76347</td>\n",
       "    </tr>\n",
       "    <tr>\n",
       "      <th>8</th>\n",
       "      <td>4</td>\n",
       "      <td>76037</td>\n",
       "    </tr>\n",
       "    <tr>\n",
       "      <th>9</th>\n",
       "      <td>7</td>\n",
       "      <td>74222</td>\n",
       "    </tr>\n",
       "    <tr>\n",
       "      <th>10</th>\n",
       "      <td>2</td>\n",
       "      <td>73321</td>\n",
       "    </tr>\n",
       "    <tr>\n",
       "      <th>11</th>\n",
       "      <td>1</td>\n",
       "      <td>64937</td>\n",
       "    </tr>\n",
       "  </tbody>\n",
       "</table>\n",
       "</div>"
      ],
      "text/plain": [
       "    month  available_units\n",
       "0      12            87061\n",
       "1       3            83938\n",
       "2      10            82438\n",
       "3      11            81780\n",
       "4       5            79971\n",
       "5       9            77246\n",
       "6       6            77244\n",
       "7       8            76347\n",
       "8       4            76037\n",
       "9       7            74222\n",
       "10      2            73321\n",
       "11      1            64937"
      ]
     },
     "execution_count": 14,
     "metadata": {},
     "output_type": "execute_result"
    }
   ],
   "source": [
    "# use pandasql to group the count of available units by month and display results\n",
    "# ordered by the largest counts first\n",
    "query = '''\n",
    "    select distinct\n",
    "        month,\n",
    "        count(*) available_units\n",
    "    from\n",
    "        available_only_df\n",
    "    group by\n",
    "        month\n",
    "    order by\n",
    "        count(*) desc\n",
    "    '''\n",
    "available_per_month_df = sqldf(query)\n",
    "available_per_month_df"
   ]
  },
  {
   "cell_type": "code",
   "execution_count": 15,
   "id": "21fa0a53-ed9f-4341-a182-ba34f5cd6b8d",
   "metadata": {
    "tags": []
   },
   "outputs": [
    {
     "data": {
      "image/png": "[encoded data removed]",
      "text/plain": [
       "<Figure size 640x480 with 1 Axes>"
      ]
     },
     "metadata": {},
     "output_type": "display_data"
    }
   ],
   "source": [
    "# plot the available units by month to visually represent the information above\n",
    "fig, ax = plt.subplots()\n",
    "sns.histplot(data=available_only_df,x='month')\n",
    "ax.set_xticks(range(1,13,1)) # <--- set the ticks first\n",
    "ax.set_xticklabels(['Jan','Feb','Mar','Apr','May','Jun','Jul','Aug','Sep','Oct','Nov','Dec'])\n",
    "ax.get_yaxis().set_major_formatter(mplib.ticker.FuncFormatter(lambda x, p: '{:,}'.format(x)))\n",
    "dummy = ax.set(xlabel='Month',\n",
    "       ylabel='Available Housing Units',\n",
    "       title='AirBnb available units per month for 2017')\n",
    "\n",
    "plt.savefig('AirBnb available units per month for 2017.png')"
   ]
  },
  {
   "cell_type": "markdown",
   "id": "1408e6ee-d216-479c-9904-ab3d9d02421f",
   "metadata": {},
   "source": [
    "#### Although there's plenty of listings available at all times of the year, the table and plot show that December, March, and October are the 3 months with the most available units. In general, the later months in the year have the most available units"
   ]
  },
  {
   "cell_type": "markdown",
   "id": "7293abbd-1b5c-4bf3-9517-91e9f43fefb1",
   "metadata": {},
   "source": [
    "### Question 2. How much can I expect to pay for a rental?"
   ]
  },
  {
   "cell_type": "code",
   "execution_count": 16,
   "id": "ffcca47b-35ef-45b0-96d8-f44cffe2fcad",
   "metadata": {
    "tags": []
   },
   "outputs": [
    {
     "data": {
      "text/html": [
       "<div>\n",
       "<style scoped>\n",
       "    .dataframe tbody tr th:only-of-type {\n",
       "        vertical-align: middle;\n",
       "    }\n",
       "\n",
       "    .dataframe tbody tr th {\n",
       "        vertical-align: top;\n",
       "    }\n",
       "\n",
       "    .dataframe thead th {\n",
       "        text-align: right;\n",
       "    }\n",
       "</style>\n",
       "<table border=\"1\" class=\"dataframe\">\n",
       "  <thead>\n",
       "    <tr style=\"text-align: right;\">\n",
       "      <th></th>\n",
       "      <th>max(price)</th>\n",
       "      <th>min(price)</th>\n",
       "    </tr>\n",
       "  </thead>\n",
       "  <tbody>\n",
       "    <tr>\n",
       "      <th>0</th>\n",
       "      <td>1650.0</td>\n",
       "      <td>10.0</td>\n",
       "    </tr>\n",
       "  </tbody>\n",
       "</table>\n",
       "</div>"
      ],
      "text/plain": [
       "   max(price)  min(price)\n",
       "0      1650.0        10.0"
      ]
     },
     "execution_count": 16,
     "metadata": {},
     "output_type": "execute_result"
    }
   ],
   "source": [
    "# list the min and max prices from the prices dataframe\n",
    "query = '''\n",
    "    select \n",
    "        max(price),\n",
    "        min(price)\n",
    "    from\n",
    "        all_prices_df\n",
    "    '''\n",
    "min_max_price_df = sqldf(query)\n",
    "min_max_price_df"
   ]
  },
  {
   "cell_type": "code",
   "execution_count": 17,
   "id": "7a2f64b9-2eb4-4b34-a4db-0469e79f9942",
   "metadata": {
    "tags": []
   },
   "outputs": [
    {
     "data": {
      "image/png": "[encoded data removed]",
      "text/plain": [
       "<Figure size 640x480 with 1 Axes>"
      ]
     },
     "metadata": {},
     "output_type": "display_data"
    }
   ],
   "source": [
    "fig, ax = plt.subplots()\n",
    "sns.histplot(data=all_prices_df,x='price')\n",
    "ax.set_xlim(10,800)\n",
    "ax.get_yaxis().set_major_formatter(mplib.ticker.FuncFormatter(lambda x, p: '{:,}'.format(x)))\n",
    "dummy = ax.set(xlabel='Price Paid',\n",
    "       ylabel='Housing Units',\n",
    "       title='AirBnb housing units by price for 2017')\n",
    "plt.savefig('AirBnb housing units by price for 2017.png')"
   ]
  },
  {
   "cell_type": "markdown",
   "id": "30d8a6a1-6ff1-44b3-a180-2f0f8c3f5dab",
   "metadata": {},
   "source": [
    "#### The plot shows the majority of rental units cost between 50 and 200 dollars with 100 dollars being the most frequent price"
   ]
  },
  {
   "cell_type": "markdown",
   "id": "0550fb28-d9a7-47ef-9d54-a448d391e58c",
   "metadata": {},
   "source": [
    "### Question 3. What factors contribute most significantly to the overall rating for a rental?"
   ]
  },
  {
   "cell_type": "markdown",
   "id": "ca15684a-a81e-4f5a-87ce-159fe5b153b7",
   "metadata": {},
   "source": [
    "Create a function to display the coefficients from the linear model created in Section 4 in descending order of contribution to the prediction of the overall rating for a listing"
   ]
  },
  {
   "cell_type": "code",
   "execution_count": 18,
   "id": "55d2a587-2e02-4efc-bad4-ebc74c706640",
   "metadata": {
    "tags": []
   },
   "outputs": [
    {
     "data": {
      "text/html": [
       "<div>\n",
       "<style scoped>\n",
       "    .dataframe tbody tr th:only-of-type {\n",
       "        vertical-align: middle;\n",
       "    }\n",
       "\n",
       "    .dataframe tbody tr th {\n",
       "        vertical-align: top;\n",
       "    }\n",
       "\n",
       "    .dataframe thead th {\n",
       "        text-align: right;\n",
       "    }\n",
       "</style>\n",
       "<table border=\"1\" class=\"dataframe\">\n",
       "  <thead>\n",
       "    <tr style=\"text-align: right;\">\n",
       "      <th></th>\n",
       "      <th>est_int</th>\n",
       "      <th>coefs</th>\n",
       "      <th>abs_coefs</th>\n",
       "    </tr>\n",
       "  </thead>\n",
       "  <tbody>\n",
       "    <tr>\n",
       "      <th>5</th>\n",
       "      <td>review_scores_value</td>\n",
       "      <td>3.058346</td>\n",
       "      <td>3.058346</td>\n",
       "    </tr>\n",
       "    <tr>\n",
       "      <th>2</th>\n",
       "      <td>review_scores_cleanliness</td>\n",
       "      <td>2.352576</td>\n",
       "      <td>2.352576</td>\n",
       "    </tr>\n",
       "    <tr>\n",
       "      <th>0</th>\n",
       "      <td>review_scores_accuracy</td>\n",
       "      <td>1.526999</td>\n",
       "      <td>1.526999</td>\n",
       "    </tr>\n",
       "    <tr>\n",
       "      <th>1</th>\n",
       "      <td>review_scores_checkin</td>\n",
       "      <td>1.294785</td>\n",
       "      <td>1.294785</td>\n",
       "    </tr>\n",
       "    <tr>\n",
       "      <th>3</th>\n",
       "      <td>review_scores_communication</td>\n",
       "      <td>1.267077</td>\n",
       "      <td>1.267077</td>\n",
       "    </tr>\n",
       "    <tr>\n",
       "      <th>4</th>\n",
       "      <td>review_scores_location</td>\n",
       "      <td>0.533938</td>\n",
       "      <td>0.533938</td>\n",
       "    </tr>\n",
       "  </tbody>\n",
       "</table>\n",
       "</div>"
      ],
      "text/plain": [
       "                       est_int     coefs  abs_coefs\n",
       "5          review_scores_value  3.058346   3.058346\n",
       "2    review_scores_cleanliness  2.352576   2.352576\n",
       "0       review_scores_accuracy  1.526999   1.526999\n",
       "1        review_scores_checkin  1.294785   1.294785\n",
       "3  review_scores_communication  1.267077   1.267077\n",
       "4       review_scores_location  0.533938   0.533938"
      ]
     },
     "execution_count": 18,
     "metadata": {},
     "output_type": "execute_result"
    }
   ],
   "source": [
    "# define a function to extract the coefficients from the regression model \n",
    "# and order them highest to lowest\n",
    "def coef_weights(coefficients, X_train):\n",
    "    '''\n",
    "    INPUT:\n",
    "    coefficients - the coefficients of the linear model \n",
    "    X_train - the training data, so the column names can be used\n",
    "    OUTPUT:\n",
    "    coefs_df - a dataframe holding the coefficient, estimate, and abs(estimate)\n",
    "    \n",
    "    Provides a dataframe that can be used to understand the most influential coefficients\n",
    "    in a linear model by providing the coefficient estimates along with the name of the \n",
    "    variable attached to the coefficient.\n",
    "    '''\n",
    "    coefs_df = pd.DataFrame()\n",
    "    coefs_df['est_int'] = X_train.columns\n",
    "    coefs_df['coefs'] = lm_model.coef_\n",
    "    coefs_df['abs_coefs'] = np.abs(lm_model.coef_)\n",
    "    coefs_df = coefs_df.sort_values('abs_coefs', ascending=False)\n",
    "    return coefs_df\n",
    "\n",
    "#Use the function\n",
    "coef_df = coef_weights(lm_model.coef_, X_train)\n",
    "\n",
    "#A quick look at the top results\n",
    "coef_df.head(20)"
   ]
  },
  {
   "cell_type": "markdown",
   "id": "ebdcf94e-0df8-4924-90fc-b50938027fa9",
   "metadata": {},
   "source": [
    "#### The output indicates that value is the most important quality contributing to the overall score given to a listing followed by cleanliness"
   ]
  },
  {
   "cell_type": "code",
   "execution_count": null,
   "id": "be0f3f78-ca3a-4db6-a6ce-525ae645a209",
   "metadata": {},
   "outputs": [],
   "source": []
  }
 ],
 "metadata": {
  "kernelspec": {
   "display_name": "Python 3 (ipykernel)",
   "language": "python",
   "name": "python3"
  },
  "language_info": {
   "codemirror_mode": {
    "name": "ipython",
    "version": 3
   },
   "file_extension": ".py",
   "mimetype": "text/x-python",
   "name": "python",
   "nbconvert_exporter": "python",
   "pygments_lexer": "ipython3",
   "version": "3.11.4"
  }
 },
 "nbformat": 4,
 "nbformat_minor": 5
}
