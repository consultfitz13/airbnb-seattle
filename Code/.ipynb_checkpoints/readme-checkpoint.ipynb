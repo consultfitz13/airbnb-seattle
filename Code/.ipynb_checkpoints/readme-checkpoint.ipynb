{
 "cells": [
  {
   "cell_type": "markdown",
   "id": "66a5e877-3410-4a31-9522-bc7c61b20bcf",
   "metadata": {},
   "source": [
    "# Analysis of AirBnb Dataset from 2017\n",
    "## Installations\n",
    ">This project \n",
    "## Project Motivation\n",
    "## File Descriptions\n",
    "## How to Interact with your project\n",
    "## Licensing, Authors, Acknowledgements, etc."
   ]
  },
  {
   "cell_type": "code",
   "execution_count": null,
   "id": "0a1079f8-1660-454c-ba54-1adaf89e3fa6",
   "metadata": {},
   "outputs": [],
   "source": []
  }
 ],
 "metadata": {
  "kernelspec": {
   "display_name": "Python 3 (ipykernel)",
   "language": "python",
   "name": "python3"
  },
  "language_info": {
   "codemirror_mode": {
    "name": "ipython",
    "version": 3
   },
   "file_extension": ".py",
   "mimetype": "text/x-python",
   "name": "python",
   "nbconvert_exporter": "python",
   "pygments_lexer": "ipython3",
   "version": "3.11.3"
  }
 },
 "nbformat": 4,
 "nbformat_minor": 5
}
